{
 "cells": [
  {
   "cell_type": "code",
   "execution_count": 1,
   "metadata": {},
   "outputs": [],
   "source": [
    "# 사이킷런은 PolynomialFeatures 클래스를 통해 피처를 Polynomial(다항식) 피처로 변환한다.\n",
    "# PolynomialFeatures 클래스는 degree 파라미터를 통해 입력 받은 단항식 피처를 degree에 해당하는 다항식 피처로 변환한다. "
   ]
  },
  {
   "cell_type": "code",
   "execution_count": 4,
   "metadata": {},
   "outputs": [
    {
     "name": "stdout",
     "output_type": "stream",
     "text": [
      "일차 단항식 계수 피처: \n",
      " [[0 1]\n",
      " [2 3]]\n",
      "변환된 2차 다항식 계수 피처:\n",
      " [[1. 0. 1. 0. 0. 1.]\n",
      " [1. 2. 3. 4. 6. 9.]]\n"
     ]
    }
   ],
   "source": [
    "from sklearn.preprocessing import PolynomialFeatures\n",
    "import numpy as np\n",
    "\n",
    "# 다항식으로 변환한 단항식 생성, [[0,1], [2,3]]의 2x2 행렬 생성\n",
    "X = np.arange(4).reshape(2,2)\n",
    "print('일차 단항식 계수 피처: \\n', X)\n",
    "\n",
    "# degree = 2인 2차 다항식으로 변환하기 위해 PolynomialFeatures를 이용해 반환\n",
    "poly = PolynomialFeatures(degree=2)\n",
    "poly.fit(X)\n",
    "poly_ftr = poly.transform(X)\n",
    "print('변환된 2차 다항식 계수 피처:\\n', poly_ftr)\n",
    "\n",
    "# 1, x1, x2, x1^2, x1*x2, x2^2 형식 "
   ]
  },
  {
   "cell_type": "code",
   "execution_count": 5,
   "metadata": {},
   "outputs": [
    {
     "name": "stdout",
     "output_type": "stream",
     "text": [
      "일차 단항식 계수 feature: \n",
      " [[0 1]\n",
      " [2 3]]\n",
      "삼차 다항식 결정값: \n",
      " [  5 125]\n"
     ]
    }
   ],
   "source": [
    "# 3차 다항 계수 피처 값\n",
    "def polynomail_func(X):\n",
    "  y = 1 + 2*X[:,0] + 3*X[:,0]**2 + 4*X[:,1]**3\n",
    "  return y\n",
    "\n",
    "X = np.arange(4).reshape(2,2)\n",
    "print(\"일차 단항식 계수 feature: \\n\", X)\n",
    "y = polynomail_func(X)\n",
    "print(\"삼차 다항식 결정값: \\n\", y)"
   ]
  },
  {
   "cell_type": "code",
   "execution_count": 7,
   "metadata": {},
   "outputs": [
    {
     "name": "stdout",
     "output_type": "stream",
     "text": [
      "3차 다항식 계수 feature: \n",
      " [[ 1.  0.  1.  0.  0.  1.  0.  0.  0.  1.]\n",
      " [ 1.  2.  3.  4.  6.  9.  8. 12. 18. 27.]]\n",
      "Polynomial 회귀 계수 \n",
      " [0.   0.18 0.18 0.36 0.54 0.72 0.72 1.08 1.62 2.34]\n",
      "Polynomial 회귀 Shape \n",
      " (10,)\n"
     ]
    }
   ],
   "source": [
    "from sklearn.linear_model import LinearRegression\n",
    "# 3차 다항식 변환\n",
    "poly_ftr = PolynomialFeatures(degree=3).fit_transform(X)\n",
    "print(\"3차 다항식 계수 feature: \\n\", poly_ftr)\n",
    "\n",
    "# Linear Regression에 3차 다항식 계수 feature와 3차 다항식 결정값으로 학습 후 회귀 계수 확인 \n",
    "model = LinearRegression()\n",
    "model.fit(poly_ftr, y)\n",
    "print('Polynomial 회귀 계수 \\n', np.round(model.coef_, 2))\n",
    "print('Polynomial 회귀 Shape \\n', model.coef_.shape)"
   ]
  },
  {
   "cell_type": "code",
   "execution_count": 8,
   "metadata": {},
   "outputs": [
    {
     "name": "stdout",
     "output_type": "stream",
     "text": [
      "Polynomial 회귀 계수 \n",
      " [0.   0.18 0.18 0.36 0.54 0.72 0.72 1.08 1.62 2.34]\n"
     ]
    }
   ],
   "source": [
    "from sklearn.preprocessing import PolynomialFeatures\n",
    "from sklearn.linear_model import LinearRegression\n",
    "from sklearn.pipeline import Pipeline\n",
    "import numpy as np\n",
    "\n",
    "def polynomail_func(X):\n",
    "  y = 1 + 2*X[:,0] + 3*X[:,0]**2 + 4*X[:,1]**3\n",
    "  return y\n",
    "\n",
    "# Pipeline 객체로 Streamline하게 Polynomial Feature 변환과 Linear Regession을 연결\n",
    "model = Pipeline( [ ('poly', PolynomialFeatures(degree=3)), ('linear', LinearRegression()) ] )\n",
    "X = np.arange(4).reshape(2,2)\n",
    "y = polynomail_func(X)\n",
    "\n",
    "model = model.fit(X, y)\n",
    "\n",
    "print(\"Polynomial 회귀 계수 \\n\", np.round(model.named_steps['linear'].coef_, 2))"
   ]
  }
 ],
 "metadata": {
  "kernelspec": {
   "display_name": "Python 3.9.7 64-bit",
   "language": "python",
   "name": "python3"
  },
  "language_info": {
   "codemirror_mode": {
    "name": "ipython",
    "version": 3
   },
   "file_extension": ".py",
   "mimetype": "text/x-python",
   "name": "python",
   "nbconvert_exporter": "python",
   "pygments_lexer": "ipython3",
   "version": "3.9.7"
  },
  "orig_nbformat": 4,
  "vscode": {
   "interpreter": {
    "hash": "82ed002fa2d4956f5c6aec99bcefe0f73a9f79882f3c9e2319b14958a5896ac5"
   }
  }
 },
 "nbformat": 4,
 "nbformat_minor": 2
}
