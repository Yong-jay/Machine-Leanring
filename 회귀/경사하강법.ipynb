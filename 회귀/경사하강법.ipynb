{
 "cells": [
  {
   "cell_type": "code",
   "execution_count": 1,
   "metadata": {},
   "outputs": [],
   "source": [
    "# step 1: w1, w0을 임의의 값으로 설정하고 첫 비용 함수의 값을 계산\n",
    "# step 2: w1을 w1 - (비용함수 w1 편미분), w0을 w0 - (비용함수 w0 편미분) 으로 업데이트한 후 비용 함수의 값을 계산\n",
    "# step 3: 비용 함수의 값이 감소했으면 step2를 반복, 더 이상 비용 함수의 값이 감소하지 않으면 그 때의 w1, w0를 구하고 반복을 중지 "
   ]
  },
  {
   "cell_type": "code",
   "execution_count": 18,
   "metadata": {},
   "outputs": [
    {
     "data": {
      "text/plain": [
       "<matplotlib.collections.PathCollection at 0x1ff88ed5ca0>"
      ]
     },
     "execution_count": 18,
     "metadata": {},
     "output_type": "execute_result"
    },
    {
     "data": {
      "image/png": "[encoded data removed]",
      "text/plain": [
       "<Figure size 432x288 with 1 Axes>"
      ]
     },
     "metadata": {
      "needs_background": "light"
     },
     "output_type": "display_data"
    }
   ],
   "source": [
    "import numpy as np\n",
    "import matplotlib.pyplot as plt\n",
    "%matplotlib inline\n",
    "\n",
    "np.random.seed(0)\n",
    "\n",
    "# y = 4X + 6 을 근사(w1=4, w0=6)\n",
    "\n",
    "X = 2 * np.random.rand(100, 1)\n",
    "y = 6 + 4 * X + np.random.randn(100, 1)\n",
    "\n",
    "plt.scatter(X, y)\n"
   ]
  },
  {
   "cell_type": "code",
   "execution_count": 19,
   "metadata": {},
   "outputs": [],
   "source": [
    "# 비용 함수 \n",
    "def get_cost(y, y_pred):\n",
    "  N = len(y)\n",
    "  cost = np.sum(np.square(y-y_pred)) / N\n",
    "  return cost"
   ]
  },
  {
   "cell_type": "code",
   "execution_count": 39,
   "metadata": {},
   "outputs": [],
   "source": [
    "# w1 과 w0 를 업데이트할 w1_update, w0_update 반환\n",
    "\n",
    "def get_weight_updates(w1, w0, X, y, learning_rate=0.01):\n",
    "  N = len(y)\n",
    "  \n",
    "  # w1_update, w0_update를 각각 w1, w0의 shape와 동일한 크기를 가진 0 값으로 초기화 \n",
    "  w1_update = np.zeros_like(w1)\n",
    "  w0_update = np.zeros_like(w0)\n",
    "  \n",
    "  # 예측 배열 계산하고 예측과 실제 값의 차이 계산 \n",
    "  y_pred = np.dot(X, w1.T) + w0\n",
    "  diff = y-y_pred\n",
    "  \n",
    "  # w0_update를 dot 행렬 연산으로 구하기 위해 모두 1값을 가진 행렬 생성 \n",
    "  w0_factors = np.ones((N, 1))\n",
    "  \n",
    "  # w1과 w0를 업데이트할 w1_update와 w0_update 계산\n",
    "  w1_update = -(2/N)*learning_rate*(np.dot(X.T, diff))\n",
    "  w0_update = -(2/N)*learning_rate*(np.dot(w0_factors.T, diff))\n",
    "  \n",
    "  return w1_update, w0_update"
   ]
  },
  {
   "cell_type": "code",
   "execution_count": 38,
   "metadata": {},
   "outputs": [],
   "source": [
    "# 경사 하강 방식으로 반복적 수행 \n",
    "# w1, w0를 업데이트하는 함수 생성\n",
    "\n",
    "def gradient_descent_steps(X, y, iters=1000):\n",
    "  \n",
    "  #w0와 w1을 모두 0으로 초기화 \n",
    "  w0 = np.zeros((1,1))\n",
    "  w1 = np.zeros((1,1))\n",
    "  \n",
    "  # 인자로 주어진 iters 만큼 반복적으로 get_weight_update()호출 w1, w0 업데이트 수행 \n",
    "  for ind in range(iters):\n",
    "    w1_update, w0_update = get_weight_updates(w1, w0, X, y, learning_rate=0.01)\n",
    "    w1 = w1 - w1_update\n",
    "    w0 = w0 - w0_update\n",
    "    \n",
    "  return w1, w0 "
   ]
  },
  {
   "cell_type": "code",
   "execution_count": 47,
   "metadata": {},
   "outputs": [
    {
     "name": "stdout",
     "output_type": "stream",
     "text": [
      "w1: 4.022 w0:6.162\n",
      "Gradient Descent Total Cost:0.9935\n"
     ]
    }
   ],
   "source": [
    "w1, w0 = gradient_descent_steps(X, y, iters=1000)\n",
    "print(\"w1: {0:.3f} w0:{1:.3f}\".format(w1[0,0], w0[0,0]))\n",
    "y_pred = w1[0,0] * X + w0\n",
    "print(\"Gradient Descent Total Cost:{0:.4f}\".format(get_cost(y, y_pred)))"
   ]
  },
  {
   "cell_type": "code",
   "execution_count": 48,
   "metadata": {},
   "outputs": [
    {
     "data": {
      "text/plain": [
       "[<matplotlib.lines.Line2D at 0x1ff89039c40>]"
      ]
     },
     "execution_count": 48,
     "metadata": {},
     "output_type": "execute_result"
    },
    {
     "data": {
      "image/png": "[encoded data removed]",
      "text/plain": [
       "<Figure size 432x288 with 1 Axes>"
      ]
     },
     "metadata": {
      "needs_background": "light"
     },
     "output_type": "display_data"
    }
   ],
   "source": [
    "plt.scatter(X, y)\n",
    "plt.plot(X, y_pred)"
   ]
  },
  {
   "cell_type": "code",
   "execution_count": 53,
   "metadata": {},
   "outputs": [],
   "source": [
    "# (미니 배치) 확률적 경사 하강법\n",
    "\n",
    "def stochastic_gradient_descent_steps(X, y, batch_size=10, iters=1000):\n",
    "  \n",
    "  #w0와 w1을 모두 0으로 초기화 \n",
    "  w0 = np.zeros((1,1))\n",
    "  w1 = np.zeros((1,1))\n",
    "  \n",
    "  pred_cost = 100000\n",
    "  iter_index = 0\n",
    "  \n",
    "  for ind in range(iters):\n",
    "    np.random.seed(ind)\n",
    "    \n",
    "    # 전체 X, y 데이터에서 랜덤하게 batch_size만큼 데이터를 추출해 sample_X, sample_y로 저장 \n",
    "    stochastic_random_index = np.random.permutation(X.shape[0])\n",
    "    sample_X = X[stochastic_random_index[0:batch_size]]\n",
    "    sample_y = y[stochastic_random_index[0:batch_size]]\n",
    "    w1_update, w0_update = get_weight_updates(w1, w0, sample_X, sample_y, learning_rate=0.01)\n",
    "    w1 = w1 - w1_update\n",
    "    w0 = w0 - w0_update\n",
    "    \n",
    "  return w1, w0 "
   ]
  },
  {
   "cell_type": "code",
   "execution_count": 54,
   "metadata": {},
   "outputs": [
    {
     "name": "stdout",
     "output_type": "stream",
     "text": [
      "w1: 4.028 w0:6.156\n",
      "Stochastic Gradient Descent Total Cost:0.9937\n"
     ]
    }
   ],
   "source": [
    "w1, w0 = stochastic_gradient_descent_steps(X, y, iters=1000)\n",
    "print(\"w1: {0:.3f} w0:{1:.3f}\".format(w1[0,0], w0[0,0]))\n",
    "y_pred = w1[0,0] * X + w0\n",
    "print(\"Stochastic Gradient Descent Total Cost:{0:.4f}\".format(get_cost(y, y_pred)))"
   ]
  }
 ],
 "metadata": {
  "interpreter": {
   "hash": "82ed002fa2d4956f5c6aec99bcefe0f73a9f79882f3c9e2319b14958a5896ac5"
  },
  "kernelspec": {
   "display_name": "Python 3.9.7 64-bit",
   "language": "python",
   "name": "python3"
  },
  "language_info": {
   "codemirror_mode": {
    "name": "ipython",
    "version": 3
   },
   "file_extension": ".py",
   "mimetype": "text/x-python",
   "name": "python",
   "nbconvert_exporter": "python",
   "pygments_lexer": "ipython3",
   "version": "3.9.7"
  },
  "orig_nbformat": 4
 },
 "nbformat": 4,
 "nbformat_minor": 2
}
